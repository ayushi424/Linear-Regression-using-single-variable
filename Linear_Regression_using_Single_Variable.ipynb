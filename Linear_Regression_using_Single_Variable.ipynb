{
  "nbformat": 4,
  "nbformat_minor": 0,
  "metadata": {
    "colab": {
      "name": "Linear Regression using Single Variable.ipynb",
      "provenance": []
    },
    "kernelspec": {
      "name": "python3",
      "display_name": "Python 3"
    }
  },
  "cells": [
    {
      "cell_type": "markdown",
      "metadata": {
        "id": "nZfOio6ov0D-"
      },
      "source": [
        "## Linear Regression using single variable.\r\n",
        "#### Predicting salary of employee according to number of working hours."
      ]
    },
    {
      "cell_type": "markdown",
      "metadata": {
        "id": "JLKIDh3cHQiK"
      },
      "source": [
        "#### Importing required libraries."
      ]
    },
    {
      "cell_type": "code",
      "metadata": {
        "id": "VNHZgmAZIpTM"
      },
      "source": [
        "\n",
        "import pandas as pd\n",
        "import numpy as np\n",
        "import matplotlib.pyplot as plt\n",
        "%matplotlib inline\n",
        "from sklearn import linear_model"
      ],
      "execution_count": 1,
      "outputs": []
    },
    {
      "cell_type": "markdown",
      "metadata": {
        "id": "VZ01Mf97FtW_"
      },
      "source": [
        "####Reading data from the csv file.\n"
      ]
    },
    {
      "cell_type": "code",
      "metadata": {
        "colab": {
          "base_uri": "https://localhost:8080/",
          "height": 196
        },
        "id": "Oz1BDykhn93R",
        "outputId": "88fb9530-c1f9-454f-9487-cc39d8976db1"
      },
      "source": [
        "\n",
        "data=pd.read_csv('/content/employee_workinghour_salary.csv')\n",
        "data"
      ],
      "execution_count": 3,
      "outputs": [
        {
          "output_type": "execute_result",
          "data": {
            "text/html": [
              "<div>\n",
              "<style scoped>\n",
              "    .dataframe tbody tr th:only-of-type {\n",
              "        vertical-align: middle;\n",
              "    }\n",
              "\n",
              "    .dataframe tbody tr th {\n",
              "        vertical-align: top;\n",
              "    }\n",
              "\n",
              "    .dataframe thead th {\n",
              "        text-align: right;\n",
              "    }\n",
              "</style>\n",
              "<table border=\"1\" class=\"dataframe\">\n",
              "  <thead>\n",
              "    <tr style=\"text-align: right;\">\n",
              "      <th></th>\n",
              "      <th>working_hours</th>\n",
              "      <th>salary</th>\n",
              "    </tr>\n",
              "  </thead>\n",
              "  <tbody>\n",
              "    <tr>\n",
              "      <th>0</th>\n",
              "      <td>6.0</td>\n",
              "      <td>1150</td>\n",
              "    </tr>\n",
              "    <tr>\n",
              "      <th>1</th>\n",
              "      <td>5.0</td>\n",
              "      <td>1050</td>\n",
              "    </tr>\n",
              "    <tr>\n",
              "      <th>2</th>\n",
              "      <td>8.5</td>\n",
              "      <td>1440</td>\n",
              "    </tr>\n",
              "    <tr>\n",
              "      <th>3</th>\n",
              "      <td>9.0</td>\n",
              "      <td>1560</td>\n",
              "    </tr>\n",
              "    <tr>\n",
              "      <th>4</th>\n",
              "      <td>7.5</td>\n",
              "      <td>1230</td>\n",
              "    </tr>\n",
              "  </tbody>\n",
              "</table>\n",
              "</div>"
            ],
            "text/plain": [
              "   working_hours  salary\n",
              "0            6.0    1150\n",
              "1            5.0    1050\n",
              "2            8.5    1440\n",
              "3            9.0    1560\n",
              "4            7.5    1230"
            ]
          },
          "metadata": {
            "tags": []
          },
          "execution_count": 3
        }
      ]
    },
    {
      "cell_type": "code",
      "metadata": {
        "colab": {
          "base_uri": "https://localhost:8080/"
        },
        "id": "uAzbj0Pmssv2",
        "outputId": "ae27ce4a-ea85-4e36-9041-97609f7eda15"
      },
      "source": [
        "#finding any missing values, if present we will clean data and then use it for prediction.\r\n",
        "data.isnull().sum()"
      ],
      "execution_count": 15,
      "outputs": [
        {
          "output_type": "execute_result",
          "data": {
            "text/plain": [
              "working_hours    0\n",
              "salary           0\n",
              "dtype: int64"
            ]
          },
          "metadata": {
            "tags": []
          },
          "execution_count": 15
        }
      ]
    },
    {
      "cell_type": "code",
      "metadata": {
        "colab": {
          "base_uri": "https://localhost:8080/",
          "height": 296
        },
        "id": "lZen0EsLoEww",
        "outputId": "92035d0f-f01c-4a53-8f2d-3376e32cdfc8"
      },
      "source": [
        "#visualizing data.\n",
        "plt.xlabel('working hours of the employee')\n",
        "plt.ylabel('salary in rupees(per month)')\n",
        "plt.scatter(data.working_hours,data.salary, color='BLUE', marker='*')"
      ],
      "execution_count": 7,
      "outputs": [
        {
          "output_type": "execute_result",
          "data": {
            "text/plain": [
              "<matplotlib.collections.PathCollection at 0x7f03d64f7ef0>"
            ]
          },
          "metadata": {
            "tags": []
          },
          "execution_count": 7
        },
        {
          "output_type": "display_data",
          "data": {
            "image/png": "[encoded data removed]",
            "text/plain": [
              "<Figure size 432x288 with 1 Axes>"
            ]
          },
          "metadata": {
            "tags": [],
            "needs_background": "light"
          }
        }
      ]
    },
    {
      "cell_type": "code",
      "metadata": {
        "colab": {
          "base_uri": "https://localhost:8080/"
        },
        "id": "pzjnUKbUpDt2",
        "outputId": "c7ecf037-140e-4e8f-9376-bd7367851693"
      },
      "source": [
        "#using LinearRegression for prediction.\n",
        "reg=linear_model.LinearRegression()\n",
        "reg.fit(data[['working_hours']],data.salary)"
      ],
      "execution_count": 9,
      "outputs": [
        {
          "output_type": "execute_result",
          "data": {
            "text/plain": [
              "LinearRegression(copy_X=True, fit_intercept=True, n_jobs=None, normalize=False)"
            ]
          },
          "metadata": {
            "tags": []
          },
          "execution_count": 9
        }
      ]
    },
    {
      "cell_type": "code",
      "metadata": {
        "colab": {
          "base_uri": "https://localhost:8080/"
        },
        "id": "dC8sM9myqtRv",
        "outputId": "28e2dd90-cf0a-4cc6-d0a2-10cfdff90cec"
      },
      "source": [
        "#predicting salary of employe who worked for 6.5 hours.\n",
        "reg.predict(np.array([6.5]).reshape(1, 1))"
      ],
      "execution_count": 10,
      "outputs": [
        {
          "output_type": "execute_result",
          "data": {
            "text/plain": [
              "array([1201.81415929])"
            ]
          },
          "metadata": {
            "tags": []
          },
          "execution_count": 10
        }
      ]
    },
    {
      "cell_type": "code",
      "metadata": {
        "colab": {
          "base_uri": "https://localhost:8080/"
        },
        "id": "pPJRNTfdrJDz",
        "outputId": "119bc05b-cc81-42c1-ae3a-4fbc348db55d"
      },
      "source": [
        "reg.coef_"
      ],
      "execution_count": 11,
      "outputs": [
        {
          "output_type": "execute_result",
          "data": {
            "text/plain": [
              "array([120.26548673])"
            ]
          },
          "metadata": {
            "tags": []
          },
          "execution_count": 11
        }
      ]
    },
    {
      "cell_type": "code",
      "metadata": {
        "colab": {
          "base_uri": "https://localhost:8080/"
        },
        "id": "3lQVJrcAsVMf",
        "outputId": "3a6ffd35-9d93-4a4f-9530-3aef99fc80a6"
      },
      "source": [
        "reg.intercept_"
      ],
      "execution_count": 12,
      "outputs": [
        {
          "output_type": "execute_result",
          "data": {
            "text/plain": [
              "420.08849557522103"
            ]
          },
          "metadata": {
            "tags": []
          },
          "execution_count": 12
        }
      ]
    },
    {
      "cell_type": "markdown",
      "metadata": {
        "id": "VGWq9itxHmrU"
      },
      "source": [
        "####y=mx+c or salary=m(working_hours)+b\n",
        "####where  salary(dependent) depends on number of working hours(independent)\n",
        "####m is slope or gradient and b is intercept."
      ]
    },
    {
      "cell_type": "code",
      "metadata": {
        "colab": {
          "base_uri": "https://localhost:8080/"
        },
        "id": "zsHKmO2GsXI0",
        "outputId": "7082dd54-7e61-466d-9df6-a0ccfbe453f4"
      },
      "source": [
        "\n",
        "120.26548673*6.5+420.08849557522103\n",
        "#rechecking by values of coefficeint and intercept."
      ],
      "execution_count": 13,
      "outputs": [
        {
          "output_type": "execute_result",
          "data": {
            "text/plain": [
              "1201.814159320221"
            ]
          },
          "metadata": {
            "tags": []
          },
          "execution_count": 13
        }
      ]
    }
  ]
}